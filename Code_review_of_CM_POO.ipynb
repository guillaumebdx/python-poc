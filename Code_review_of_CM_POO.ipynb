{
  "nbformat": 4,
  "nbformat_minor": 0,
  "metadata": {
    "colab": {
      "name": "Code review of CM_POO.ipynb",
      "provenance": [],
      "collapsed_sections": []
    },
    "kernelspec": {
      "name": "python3",
      "display_name": "Python 3"
    }
  },
  "cells": [
    {
      "cell_type": "code",
      "metadata": {
        "id": "3aoOuhriOgmH"
      },
      "source": [
        "## Step 1 _ Création de la classe \n",
        "import random \n",
        "\n",
        "class DataAnalyst:\n",
        "  \"\"\"\n",
        "  Classe des Data Analyst\n",
        "  \"\"\"\n",
        "\n",
        "  # nom (str) prenom (str) age (int) sexe (str) formationPrecedente (str) motivation (int valant 100 à l'instanciation) progression (int valant 0 à l'instanciation)\n",
        "  def __init__(self, a_nom=str, a_prenom=str, a_age=int, a_sexe=str, a_formationPrecedente=str):\n",
        "    \"\"\" Par défaut, la motivation est à 100, la progression est à 0\"\"\"\n",
        "    self.nom = a_nom\n",
        "    self.prenom = a_prenom\n",
        "    self.age = a_age\n",
        "    self.sexe = a_sexe\n",
        "    self.formationPrecedente = a_formationPrecedente\n",
        "    self.motivation = 100\n",
        "    self.progression = 0\n",
        "    \n",
        "  def suivre_formation(self):\n",
        "    \"\"\" Diminue la motivation et augmente la progression de manière aléatoire\"\"\"\n",
        "    reg_motivation = random.randint(5,25)  ## Récupération du % de motivation en baisse \n",
        "    self.motivation -= reg_motivation\n",
        "\n",
        "    aug_progression = random.randint(20,30)  ## Récupération du % de la progression en augmentation\n",
        "    self.progression += aug_progression\n",
        "    print(self + ' après avoir suivi la formation')\n",
        "\n",
        "  def  bosser_plus(self):\n",
        "    \"Augmente la motivation et la progression\"\n",
        "    aug_motivation = random.randint(10,30)\n",
        "    self.motivation += aug_motivation\n",
        "    aug_progression = random.randint(10,30)  ## Récupération du % de la progression en augmentation\n",
        "    self.progression += aug_progression\n",
        "    print(self + ' après avoir bossé plus')\n",
        "\n",
        "  def echouer(self):\n",
        "    \"\"\" Diminue la motivation et augmente la progression de manière aléatoire\"\"\"\n",
        "    reg_motivation = random.randint(20,40)  ## Récupération du % de motivation en baisse \n",
        "    self.motivation -= reg_motivation\n",
        "    aug_progression = random.randint(20,40)  ## Récupération du % de la progression en augmentation\n",
        "    self.progression += aug_progression\n",
        "    print(self + ' après avoir échoué')\n",
        "    \n",
        "  def reussir(self):\n",
        "    \"Augmente la motivation et la progression\" \n",
        "    aug_motivation = random.randint(20,40)\n",
        "    self.motivation += aug_motivation\n",
        "    aug_progression = random.randint(10,20)  ## Récupération du % de la progression en augmentation\n",
        "    self.progression += aug_progression\n",
        "    print(self + ' après avoir réussi')\n",
        "  \n"
      ],
      "execution_count": 23,
      "outputs": []
    },
    {
      "cell_type": "code",
      "metadata": {
        "id": "cI62MKGjzFU0"
      },
      "source": [
        "## Step 2 _ Fonction qui détermine aléatoirement l'action à chaque tour\n",
        "\n",
        "def choose_method(obj):\n",
        "  n = random.randint(1,4)\n",
        "  if n == 1:\n",
        "    obj.suivre_formation()\n",
        "    return 'suivre_formation()'\n",
        "  elif n == 2:\n",
        "    obj.bosser_plus()\n",
        "    return 'bosser_plus()'\n",
        "  elif n == 3:\n",
        "    obj.echouer()\n",
        "    return 'echouer()'\n",
        "  else:\n",
        "    obj.reussir()\n",
        "    return 'reussir()'"
      ],
      "execution_count": null,
      "outputs": []
    },
    {
      "cell_type": "code",
      "metadata": {
        "id": "Ag9bi_9vzyY9",
        "outputId": "8a87cc1d-5d5c-4b1f-9640-9ae7b61c11bb",
        "colab": {
          "base_uri": "https://localhost:8080/",
          "height": 544
        }
      },
      "source": [
        "## Step 3 _ Lancement du programme\n",
        "\n",
        "# Création de l'objet \n",
        "\n",
        "student = DataAnalyst('Mathez', 'Céline', 27, 'F', 'Master Anthropologie biologique')\n",
        "tour = 0\n",
        "\n",
        "\n",
        "while True :\n",
        "  method = choose_method(student)\n",
        "  tour += 1\n",
        "  if student.motivation < 0:\n",
        "    student.motivation = 0\n",
        "  print(f\"\"\"\n",
        "  Tour {tour}\n",
        "  La méthode {method} a été utilisée.\n",
        "  mosivation vaut maintenant {student.motivation}\n",
        "  progression vaut maintenant {student.progression}\"\"\")\n",
        "  if student.motivation == 0:\n",
        "    print(\"  BRAVO TU AS GAGNÉ !!!  \")\n",
        "    break\n",
        "  elif student.progression >= 100:\n",
        "    print(\"  BRAVO TU AS  APPRIS !!!  \")\n",
        "    break\n",
        "\n"
      ],
      "execution_count": null,
      "outputs": [
        {
          "output_type": "stream",
          "text": [
            "\n",
            "  Tour 1\n",
            "  La méthode reussir() a été utilisée.\n",
            "  mosivation vaut maintenant 131\n",
            "  progression vaut maintenant 17\n",
            "\n",
            "  Tour 2\n",
            "  La méthode suivre_formation() a été utilisée.\n",
            "  mosivation vaut maintenant 118\n",
            "  progression vaut maintenant 44\n",
            "\n",
            "  Tour 3\n",
            "  La méthode reussir() a été utilisée.\n",
            "  mosivation vaut maintenant 147\n",
            "  progression vaut maintenant 58\n",
            "\n",
            "  Tour 4\n",
            "  La méthode bosser_plus() a été utilisée.\n",
            "  mosivation vaut maintenant 168\n",
            "  progression vaut maintenant 74\n",
            "\n",
            "  Tour 5\n",
            "  La méthode echouer() a été utilisée.\n",
            "  mosivation vaut maintenant 143\n",
            "  progression vaut maintenant 95\n",
            "\n",
            "  Tour 6\n",
            "  La méthode bosser_plus() a été utilisée.\n",
            "  mosivation vaut maintenant 166\n",
            "  progression vaut maintenant 108\n",
            "  BRAVO TU AS  APPRIS !!!  \n"
          ],
          "name": "stdout"
        }
      ]
    },
    {
      "cell_type": "code",
      "metadata": {
        "id": "3zeK6JVeNDLZ",
        "outputId": "525e2521-1014-4eeb-e1e0-23a8b593a948",
        "colab": {
          "base_uri": "https://localhost:8080/",
          "height": 35
        }
      },
      "source": [
        "Laurent = DataAnalyst2(112, 212, 'canonique', 3, '009')\n",
        "Laurent.nom"
      ],
      "execution_count": 10,
      "outputs": [
        {
          "output_type": "execute_result",
          "data": {
            "application/vnd.google.colaboratory.intrinsic+json": {
              "type": "string"
            },
            "text/plain": [
              "'unknown'"
            ]
          },
          "metadata": {
            "tags": []
          },
          "execution_count": 10
        }
      ]
    },
    {
      "cell_type": "code",
      "metadata": {
        "id": "7mwUcLbdNXDd"
      },
      "source": [
        "class DataAnalyst2:\n",
        "  \"\"\"\n",
        "  Classe des Data Analyst\n",
        "  \"\"\"\n",
        "\n",
        "  # nom (str) prenom (str) age (int) sexe (str) formationPrecedente (str) motivation (int valant 100 à l'instanciation) progression (int valant 0 à l'instanciation)\n",
        "  def __init__(self, a_nom=str, a_prenom=str, a_age=int, a_sexe=str, a_formationPrecedente=str):\n",
        "    valeur_erreur = 'unknown'\n",
        "    \"\"\" Par défaut, la motivation est à 100, la progression est à 0\"\"\"\n",
        "    self.__nom = self.set_nom(a_nom)\n",
        "    self.prenom = a_prenom if self.__validation_type_arg__(a_prenom, str) else valeur_erreur\n",
        "    self.age = a_age if self.__validation_type_arg__(a_age , int) else -1\n",
        "    self.sexe = a_sexe if self.__validation_type_arg__(a_sexe, str) else valeur_erreur\n",
        "    self.formationPrecedente = a_formationPrecedente if self.__validation_type_arg__(a_formationPrecedente, str) else valeur_erreur\n",
        "    self.motivation = 100\n",
        "    self.progression = 0\n",
        "  \n",
        "  def get_nom(self): \n",
        "    return self.__nom\n",
        "  def set_nom(self, nouveau_nom): \n",
        "    if self.__validation_type_arg__(nouveau_nom, str) : \n",
        "      self.__nom = nouveau_nom \n",
        "    else : \n",
        "      print(\"le nouveau nom n'est pas un str\")\n",
        "\n",
        "  def __validation_type_arg__(self, arg_a_valider, type_a_tester):\n",
        "    return type(arg_a_valider) == type_a_tester \n",
        "\n",
        "  def __incrementer__propriete(self, borne_min, borne_max):\n",
        "    return + random.randint(borne_min,borne_max)\n",
        "\n",
        "  def __decrementer__propriete(self, borne_min, borne_max):\n",
        "    return - random.randint(borne_min,borne_max)\n",
        "\n",
        "  def suivre_formation(self):\n",
        "    borne_min_motiv, borne_max_motiv  = 3 , 27 \n",
        "    borne_min_progression, borne_max_progression = 20, 30 \n",
        "\n",
        "    \"\"\" Diminue la motivation et augmente la progression de manière aléatoire\"\"\"\n",
        "    reg_motivation = self.__decrementer__propriete(borne_min_motiv, borne_max_motiv) ## Récupération du % de motivation en baisse \n",
        "    self.motivation +=  reg_motivation\n",
        "\n",
        "    aug_progression = self.__incrementer__propriete(borne_min_progression, borne_max_progression)  ## Récupération du % de la progression en augmentation\n",
        "    self.progression += aug_progression\n",
        "    print(self ,  ' après avoir suivi la formation')\n",
        "\n",
        "  def  bosser_plus(self):\n",
        "    borne_min_bosser,  borne_max_bosser = 10 , 30\n",
        "    \"Augmente la motivation et la progression\"\n",
        "    aug_motivation = self.__incrementer__propriete(borne_min_bosser, borne_max_bosser)\n",
        "    self.motivation += aug_motivation\n",
        "    aug_progression = self.__incrementer__propriete(borne_min_bosser, borne_max_bosser)  ## Récupération du % de la progression en augmentation\n",
        "    self.progression += aug_progression\n",
        "    print(self ,  ' après avoir bossé plus')\n",
        "  \n",
        "  def echouer(self):\n",
        "    borne_min_echouer, borne_max_echouer = 20, 40 \n",
        "    \"\"\" Diminue la motivation et augmente la progression de manière aléatoire\"\"\"\n",
        "    self.motivation += self.__decrementer__propriete(borne_min_echouer, borne_max_echouer)  ## Récupération du % de motivation en baisse  \n",
        "    self.progression += self.__incrementer__propriete(borne_min_echouer, borne_max_echouer)  ## Récupération du % de la progression en augmentation\n",
        "    print(self ,  ' après avoir échoué')\n",
        "\n",
        "  def reussir(self):\n",
        "    \"Augmente la motivation et la progression\" \n",
        "    borne_min_reussir_motiv, borne_max_reussir_motiv = 20, 40  \n",
        "    borne_min_reussir_prog, borne_max_reussir_prog = 10, 20  \n",
        "\n",
        "    self.motivation += self.__incrementer__propriete(borne_min_reussir_motiv, borne_max_reussir_motiv)  ## Récupération du % de motivation en baisse  \n",
        "    self.progression += self.__incrementer__propriete(borne_min_reussir_prog, borne_max_reussir_prog)  ## Récupération du % de la progression en augmentation\n",
        "    print(self , ' après avoir réussi')\n",
        "\n",
        "  def __str__(self): \n",
        "    return f'{self.__nom} a une motivation de {self.motivation} et une progression de {self.progression}'\n",
        "\n",
        "  def action_aleatoire(self):\n",
        "    n = random.randint(1,4)\n",
        "    if n == 1:\n",
        "      self.suivre_formation()\n",
        "    elif n == 2:\n",
        "      self.bosser_plus()\n",
        "    elif n == 3:\n",
        "      self.echouer()\n",
        "    else:\n",
        "      self.reussir()"
      ],
      "execution_count": 64,
      "outputs": []
    },
    {
      "cell_type": "code",
      "metadata": {
        "id": "wAEDs_eKP3pK",
        "outputId": "f8fc81cb-473b-4e72-f6d5-a0317cb4df77",
        "colab": {
          "base_uri": "https://localhost:8080/",
          "height": 170
        }
      },
      "source": [
        "laurent = DataAnalyst2('Trop long', 'Laurent', 21, 'indéterminé', 'brevet des collèges')\n",
        "\n",
        "round = 0 \n",
        "\n",
        "while laurent.motivation > 0 and laurent.progression < 100: \n",
        "  round += 1 \n",
        "  laurent.action_aleatoire()\n",
        "  print(f\"\"\" Tour {round}\"\"\")\n",
        "if laurent.motivation == 0:\n",
        "  print(\"  BRAVO TU AS GAGNÉ !!!  \")\n",
        "\n",
        "elif laurent.progression >= 100:\n",
        "  print(\"  BRAVO TU AS  APPRIS !!!  \")\n",
        "\n"
      ],
      "execution_count": 58,
      "outputs": [
        {
          "output_type": "stream",
          "text": [
            "Trop long a une motivation de 76 et une progression de 20  après avoir suivi la formation\n",
            " Tour 1\n",
            "Trop long a une motivation de 66 et une progression de 42  après avoir suivi la formation\n",
            " Tour 2\n",
            "Trop long a une motivation de 54 et une progression de 70  après avoir suivi la formation\n",
            " Tour 3\n",
            "Trop long a une motivation de 18 et une progression de 104  après avoir échoué\n",
            " Tour 4\n",
            "  BRAVO TU AS  APPRIS !!!  \n"
          ],
          "name": "stdout"
        }
      ]
    },
    {
      "cell_type": "code",
      "metadata": {
        "id": "AE7fBFL1aegp"
      },
      "source": [
        "laurent.set_nom('Andriamifidy')\n"
      ],
      "execution_count": 61,
      "outputs": []
    },
    {
      "cell_type": "code",
      "metadata": {
        "id": "RQcKwcoDcjOd",
        "outputId": "76871b90-e5b3-43c4-94f6-3272f506c0d5",
        "colab": {
          "base_uri": "https://localhost:8080/",
          "height": 35
        }
      },
      "source": [
        "laurent.get_nom()"
      ],
      "execution_count": 62,
      "outputs": [
        {
          "output_type": "execute_result",
          "data": {
            "application/vnd.google.colaboratory.intrinsic+json": {
              "type": "string"
            },
            "text/plain": [
              "'Andriamifidy'"
            ]
          },
          "metadata": {
            "tags": []
          },
          "execution_count": 62
        }
      ]
    }
  ]
}